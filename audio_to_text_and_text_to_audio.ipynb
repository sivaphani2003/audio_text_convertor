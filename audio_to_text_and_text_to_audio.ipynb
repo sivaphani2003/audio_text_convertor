{
  "cells": [
    {
      "cell_type": "code",
      "execution_count": null,
      "metadata": {
        "id": "1f2eXiy5CFyk"
      },
      "outputs": [],
      "source": [
        "!pip install yt_dlp"
      ]
    },
    {
      "cell_type": "code",
      "execution_count": null,
      "metadata": {
        "id": "IzHLNI4VDQJS"
      },
      "outputs": [],
      "source": [
        "from moviepy.editor import AudioFileClip\n",
        "import requests\n",
        "import json"
      ]
    },
    {
      "cell_type": "code",
      "execution_count": null,
      "metadata": {
        "id": "PQ_E_wwBCY4V"
      },
      "outputs": [],
      "source": [
        "import yt_dlp\n",
        "\n",
        "def download_video(url):\n",
        "    try:\n",
        "        ydl_opts = {\n",
        "            'format': 'bestaudio',\n",
        "            'postprocessors': [{\n",
        "                'key': 'FFmpegExtractAudio',\n",
        "                'preferredcodec': 'mp3',\n",
        "                'preferredquality': '192'\n",
        "            }]\n",
        "        }\n",
        "        with yt_dlp.YoutubeDL(ydl_opts) as ydl:\n",
        "            ydl.download([url])\n",
        "    except Exception as e:\n",
        "        print(f\"Error: {e}\")\n",
        "# url = \"https://www.youtube.com/watch?v=GJlFGQTc0io\"\n",
        "# download_video(url)\n"
      ]
    },
    {
      "cell_type": "code",
      "execution_count": null,
      "metadata": {
        "id": "m7nR0FaINYcy"
      },
      "outputs": [],
      "source": [
        "import yt_dlp\n",
        "\n",
        "def download_video(url, output_filename):\n",
        "    try:\n",
        "        ydl_opts = {\n",
        "            'format': 'bestaudio',\n",
        "            'postprocessors': [{\n",
        "                'key': 'FFmpegExtractAudio',\n",
        "                'preferredcodec': 'mp3',\n",
        "                'preferredquality': '192'\n",
        "            }],\n",
        "            'outtmpl': output_filename,  # Set the desired output filename\n",
        "        }\n",
        "\n",
        "        with yt_dlp.YoutubeDL(ydl_opts) as ydl:\n",
        "            ydl.download([url])\n",
        "        print(f\"Download completed successfully as {output_filename}.\")\n",
        "\n",
        "    except yt_dlp.utils.DownloadError as de:\n",
        "        print(f\"Download error: {de}\")\n",
        "    except yt_dlp.utils.ExtractorError as ee:\n",
        "        print(f\"Extractor error: {ee}\")\n",
        "    except Exception as e:\n",
        "        print(f\"An error occurred: {e}\")\n",
        "\n",
        "# Example usage\n",
        "# url = \"https://www.youtube.com/watch?v=GJlFGQTc0io\"\n",
        "# url = \"https://www.youtube.com/watch?v=yzm4gpAKrBk\"\n",
        "# output_filename = \"my_audio_file\"  # Desired output name\n",
        "# download_video(url, output_filename)\n"
      ]
    },
    {
      "cell_type": "code",
      "execution_count": null,
      "metadata": {
        "id": "PllI40sKJlyI"
      },
      "outputs": [],
      "source": [
        "import requests\n",
        "\n",
        "# Function to convert audio to text using Deepgram API\n",
        "def audio_to_text(audio_file, deepgram_api_key):\n",
        "    if audio_file is None:\n",
        "        print(\"No audio file provided.\")\n",
        "        return None\n",
        "\n",
        "    try:\n",
        "        # Open and read the audio file\n",
        "        with open(audio_file, 'rb') as f:\n",
        "            audio_data = f.read()\n",
        "\n",
        "        # Deepgram API endpoint\n",
        "        url = 'https://api.deepgram.com/v1/listen'\n",
        "\n",
        "        # Set up headers for authentication and content-type\n",
        "        headers = {\n",
        "            'Authorization': f'Token {deepgram_api_key}',\n",
        "            'Content-Type': 'audio/mp3'  # Use the correct format for your audio (e.g., audio/wav, audio/mp3)\n",
        "        }\n",
        "\n",
        "        # Send POST request to Deepgram with audio data\n",
        "        response = requests.post(url, headers=headers, data=audio_data)\n",
        "        response.raise_for_status()  # Check if the request was successful\n",
        "\n",
        "        # Parse the response JSON\n",
        "        response_json = response.json()\n",
        "\n",
        "        # Check if the response contains results and a transcript\n",
        "        if ('results' in response_json and\n",
        "                len(response_json['results']['channels']) > 0 and\n",
        "                'alternatives' in response_json['results']['channels'][0]):\n",
        "            transcript = response_json['results']['channels'][0]['alternatives'][0]['transcript']\n",
        "            return transcript\n",
        "        else:\n",
        "            print(\"Error: Unable to find transcript in response:\", response_json)\n",
        "            return None\n",
        "\n",
        "    except Exception as e:\n",
        "        print(f\"An error occurred: {e}\")\n",
        "        return None"
      ]
    },
    {
      "cell_type": "code",
      "execution_count": null,
      "metadata": {
        "id": "gIipbzQtLSHH"
      },
      "outputs": [],
      "source": [
        "import requests\n",
        "\n",
        "\n",
        "def list_voices(eleven_labs_api_key):\n",
        "    url = 'https://api.elevenlabs.io/v1/voices'\n",
        "    headers = {\n",
        "        'xi-api-key': eleven_labs_api_key\n",
        "    }\n",
        "\n",
        "    response = requests.get(url, headers=headers)\n",
        "\n",
        "    if response.status_code == 200:\n",
        "        voices = response.json()\n",
        "        if 'voices' in voices:\n",
        "            for voice in voices['voices']:\n",
        "                print(f\"Voice Name: {voice['name']}, Voice ID: {voice['voice_id']}\")\n",
        "        else:\n",
        "            print(\"No voices found in the response.\")\n",
        "    else:\n",
        "        print(\"Error:\", response.json())\n",
        "\n",
        "# Example usage\n",
        "# eleven_labs_api_key = \"your_eleven_labs_api_key\"\n",
        "# list_voices(eleven_labs_api_key)\n"
      ]
    },
    {
      "cell_type": "code",
      "execution_count": null,
      "metadata": {
        "id": "9lKsLZ5bMTff"
      },
      "outputs": [],
      "source": [
        "def text_to_speech(text, eleven_labs_api_key, voice_id,output_filename):\n",
        "    url = f'https://api.elevenlabs.io/v1/text-to-speech/{voice_id}'\n",
        "    headers = {\n",
        "        'xi-api-key': eleven_labs_api_key,\n",
        "        'Content-Type': 'application/json'\n",
        "    }\n",
        "    data = {\n",
        "        'text': text,\n",
        "        'voice_settings': {\n",
        "            'stability': 0.75,\n",
        "            'similarity_boost': 0.75\n",
        "        }\n",
        "    }\n",
        "\n",
        "    response = requests.post(url, headers=headers, json=data)\n",
        "    if response.status_code == 200:\n",
        "        with open(output_filename+'.mp3', 'wb') as f:\n",
        "            f.write(response.content)\n",
        "        print(\"Audio generated successfully:\"+output_filename+\".mp3\")\n",
        "    else:\n",
        "        print(\"Error:\", response.json())"
      ]
    },
    {
      "cell_type": "code",
      "execution_count": null,
      "metadata": {
        "id": "xRnKl9SBICcb"
      },
      "outputs": [],
      "source": [
        "# if len(transcript)>9999:\n",
        "#     print('please select the less characters vedio to compute')\n",
        "# else:\n",
        "#     print(\"Transcript:\", transcript)\n",
        "#     text_to_speech(transcript, eleven_labs_api_key,'CwhRBWXzGAHq8TQ4Fs17')"
      ]
    },
    {
      "cell_type": "markdown",
      "metadata": {
        "id": "Y2AVNB4LQYKp"
      },
      "source": [
        "## ***Overall program execution based on youtube link***"
      ]
    },
    {
      "cell_type": "code",
      "execution_count": null,
      "metadata": {
        "id": "nOW6VNlzRNHt"
      },
      "outputs": [],
      "source": [
        "eleven_labs_api_key = 'your-api-key'\n",
        "deepgram_api_key = 'your-api-key'"
      ]
    },
    {
      "cell_type": "code",
      "execution_count": null,
      "metadata": {
        "id": "Iz9MzT0CQXa_"
      },
      "outputs": [],
      "source": [
        "url = \"https://www.youtube.com/watch?v=yzm4gpAKrBk\" #input 1\n",
        "\n",
        "output_filename = \"my_audio_file1\"  # Desired output name\n",
        "download_video(url, output_filename)\n",
        "audio_file_path = 'my_audio_file1.mp3'\n",
        "transcript1 = audio_to_text(audio_file_path, deepgram_api_key)\n",
        "if transcript1:\n",
        "    print(\"Transcript:\", transcript1)\n",
        "    if len(transcript1)>9999:\n",
        "      print('please select the less characters vedio to compute')\n",
        "    else:\n",
        "      # print(\"Transcript:\", transcript1)\n",
        "      output_filename=\"my_output_file1\"\n",
        "      text_to_speech(transcript1, eleven_labs_api_key,'CwhRBWXzGAHq8TQ4Fs17',output_filename)\n",
        "else:\n",
        "    print(\"Transcription failed or no transcript found.\")\n"
      ]
    },
    {
      "cell_type": "code",
      "execution_count": null,
      "metadata": {
        "id": "dnxeLqYuSB00"
      },
      "outputs": [],
      "source": [
        "url = \"https://www.youtube.com/watch?v=GJlFGQTc0io\" #input 2\n",
        "\n",
        "output_filename = \"my_audio_file2\"  # Desired output name\n",
        "download_video(url, output_filename)\n",
        "audio_file_path = 'my_audio_file2.mp3'\n",
        "transcript2 = audio_to_text(audio_file_path, deepgram_api_key)\n",
        "if transcript2:\n",
        "    print(\"Transcript:\", transcript2)\n",
        "    if len(transcript2)>9999:\n",
        "      print('please select the less characters vedio to compute')\n",
        "    else:\n",
        "      # print(\"Transcript:\", transcript2)\n",
        "      output_filename = \"my_output_file2\"\n",
        "      text_to_speech(transcript2, eleven_labs_api_key,'CwhRBWXzGAHq8TQ4Fs17',output_filename)\n",
        "else:\n",
        "    print(\"Transcription failed or no transcript found.\")"
      ]
    }
  ],
  "metadata": {
    "colab": {
      "private_outputs": true,
      "provenance": []
    },
    "kernelspec": {
      "display_name": "Python 3",
      "name": "python3"
    },
    "language_info": {
      "name": "python"
    }
  },
  "nbformat": 4,
  "nbformat_minor": 0
}
